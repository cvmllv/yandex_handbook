{
  "cells": [
    {
      "cell_type": "markdown",
      "metadata": {
        "id": "view-in-github",
        "colab_type": "text"
      },
      "source": [
        "<a href=\"https://colab.research.google.com/github/cvmllv/yandex_handbook/blob/main/python_basics/chapter_2_1.ipynb\" target=\"_parent\"><img src=\"https://colab.research.google.com/assets/colab-badge.svg\" alt=\"Open In Colab\"/></a>"
      ]
    },
    {
      "cell_type": "markdown",
      "metadata": {
        "id": "skOtXMuYnGp4"
      },
      "source": [
        "L. Интересное сложение"
      ]
    },
    {
      "cell_type": "code",
      "execution_count": null,
      "metadata": {
        "id": "-m3H4beFm8CY"
      },
      "outputs": [],
      "source": [
        "first = int(input())\n",
        "second = int(input())\n",
        "x = (first // 100 + second // 100) % 10 #fisrt number\n",
        "y = (first // 10 % 10 + second // 10 % 10) % 10 #second number\n",
        "z = (first % 10 + second % 10) % 10 #third number\n",
        "print(f'{x}{y}{z}')"
      ]
    },
    {
      "cell_type": "markdown",
      "metadata": {
        "id": "oFsB_vGLyTcc"
      },
      "source": [
        "M. Дед Мороз и конфеты"
      ]
    },
    {
      "cell_type": "code",
      "execution_count": null,
      "metadata": {
        "id": "kNDCnfqHuPY2"
      },
      "outputs": [],
      "source": [
        "kids = int(input())\n",
        "sweets = int(input())\n",
        "print(sweets // kids)\n",
        "print(sweets % kids)"
      ]
    },
    {
      "cell_type": "markdown",
      "metadata": {
        "id": "cdWrF1xsy-1c"
      },
      "source": [
        "N. Шарики и ручки"
      ]
    },
    {
      "cell_type": "code",
      "execution_count": null,
      "metadata": {
        "id": "YXRFLcW3y9Lq"
      },
      "outputs": [],
      "source": [
        "red = int(input())\n",
        "green = int(input())\n",
        "blue = int(input())\n",
        "print(red + blue + 1)"
      ]
    },
    {
      "cell_type": "markdown",
      "metadata": {
        "id": "59ol-nycA7Mp"
      },
      "source": [
        "O. В ожидании доставки"
      ]
    },
    {
      "cell_type": "code",
      "execution_count": null,
      "metadata": {
        "id": "PIpZxMD6xytU"
      },
      "outputs": [],
      "source": [
        "hours = int(input())\n",
        "minutes = int(input())\n",
        "time = int(input())\n",
        "\n",
        "h = time // 60\n",
        "m = time % 60\n",
        "\n",
        "hours += h\n",
        "minutes += m\n",
        "\n",
        "if minutes >= 60:\n",
        "    hours += minues // 60\n",
        "    minutes = minutes % 60\n",
        "\n",
        "if hours >= 24:\n",
        "    hours = hours % 24\n",
        "\n",
        "print(f\"{str(hours).rjust(2, '0')}:{str(minutes).rjust(2, '0')}\")\n"
      ]
    },
    {
      "cell_type": "markdown",
      "metadata": {
        "id": "Dbn_X-jxU4RS"
      },
      "source": [
        "P. Доставка"
      ]
    },
    {
      "cell_type": "code",
      "execution_count": null,
      "metadata": {
        "id": "WR6kaoJ1AuN6"
      },
      "outputs": [],
      "source": [
        "point_a = int(input())\n",
        "point_b = int(input())\n",
        "velocity = int(input())\n",
        "\n",
        "time = (point_b - point_a) / velocity\n",
        "\n",
        "print(f\"{time:.2f}\")\n"
      ]
    },
    {
      "cell_type": "markdown",
      "metadata": {
        "id": "UZnVHaGlW2BY"
      },
      "source": [
        "Q. Ошибка кассового аппарата"
      ]
    },
    {
      "cell_type": "code",
      "execution_count": null,
      "metadata": {
        "id": "12bqkzFAVR7f"
      },
      "outputs": [],
      "source": [
        "decimal = int(input())\n",
        "binary = int(input())\n",
        "\n",
        "decimal_from_binary, i = 0, 0\n",
        "\n",
        "while (binary != 0):\n",
        "    dec = binary % 10\n",
        "    decimal_from_binary = decimal_from_binary + dec * pow(2, i)\n",
        "    binary = binary // 10\n",
        "    i += 1\n",
        "\n",
        "print(decimal + decimal_from_binary)"
      ]
    },
    {
      "cell_type": "markdown",
      "metadata": {
        "id": "inIvgIKuZdRs"
      },
      "source": [
        "R. Сдача 10"
      ]
    },
    {
      "cell_type": "code",
      "execution_count": null,
      "metadata": {
        "id": "E1uVBswXXpaU"
      },
      "outputs": [],
      "source": [
        "binary = int(input(), 2)\n",
        "decimal = int(input())\n",
        "print(decimal - binary)"
      ]
    },
    {
      "cell_type": "markdown",
      "metadata": {
        "id": "a0tK5yEeZqS1"
      },
      "source": [
        "S. Украшение чека"
      ]
    },
    {
      "cell_type": "code",
      "execution_count": null,
      "metadata": {
        "id": "PE9HmVe1XsLm"
      },
      "outputs": [],
      "source": [
        "product = input()\n",
        "price = int(input())\n",
        "weight = int(input())\n",
        "money = int(input())\n",
        "\n",
        "print(\n",
        "    '================Чек================',\n",
        "    f\"{'Товар:':<15}{product:>20}\",\n",
        "    f\"{'Цена:':<15}{str(weight) + 'кг * ' + str(price) + 'руб/кг':>20}\",\n",
        "    f\"{'Итого:':<15}{str(weight * price) + 'руб':>20}\",\n",
        "    f\"{'Внесено:':<15}{str(money) + 'руб':>20}\",\n",
        "    f\"{'Сдача:':<15}{str(money - weight * price) + 'руб':>20}\",\n",
        "    '===================================',\n",
        "    sep=\"\\n\"\n",
        ")"
      ]
    },
    {
      "cell_type": "markdown",
      "source": [
        "T. Мухи отдельно, котлеты отдельно"
      ],
      "metadata": {
        "id": "IKRCAmRh9bYO"
      }
    },
    {
      "cell_type": "code",
      "execution_count": null,
      "metadata": {
        "id": "66vUlq1n9KYJ"
      },
      "outputs": [],
      "source": [
        "weight = int(input())\n",
        "price = int(input())\n",
        "k1 = int(input())\n",
        "k2 = int(input())\n",
        "\n",
        "m2 = weight * (price - k1) / (k2 - k1)\n",
        "m1 = weight - m2\n",
        "\n",
        "print(f\"{m1:.0f} {m2:.0f}\")"
      ]
    }
  ],
  "metadata": {
    "colab": {
      "provenance": [],
      "authorship_tag": "ABX9TyNmAfg1b6nGYV7dbAwMt0f8",
      "include_colab_link": true
    },
    "kernelspec": {
      "display_name": "Python 3",
      "name": "python3"
    },
    "language_info": {
      "name": "python"
    }
  },
  "nbformat": 4,
  "nbformat_minor": 0
}